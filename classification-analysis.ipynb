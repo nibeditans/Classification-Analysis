{
 "cells": [
  {
   "cell_type": "markdown",
   "id": "5ad7f7ab",
   "metadata": {
    "papermill": {
     "duration": 0.005217,
     "end_time": "2023-07-03T19:03:49.147848",
     "exception": false,
     "start_time": "2023-07-03T19:03:49.142631",
     "status": "completed"
    },
    "tags": []
   },
   "source": [
    "# ***Classification Analysis using Python***"
   ]
  },
  {
   "cell_type": "markdown",
   "id": "e41074ea",
   "metadata": {
    "papermill": {
     "duration": 0.004249,
     "end_time": "2023-07-03T19:03:49.156832",
     "exception": false,
     "start_time": "2023-07-03T19:03:49.152583",
     "status": "completed"
    },
    "tags": []
   },
   "source": [
    "# Introduction\n",
    "In this dataset, we will explore a dataset and perform a classification task using Python. The dataset we will be using is the \"Iris\" dataset, which contains measurements of different iris flowers along with their species. Our goal is to build a classification model that can predict the species of an iris flower based on its measurements."
   ]
  },
  {
   "cell_type": "markdown",
   "id": "58259add",
   "metadata": {
    "papermill": {
     "duration": 0.004098,
     "end_time": "2023-07-03T19:03:49.165268",
     "exception": false,
     "start_time": "2023-07-03T19:03:49.161170",
     "status": "completed"
    },
    "tags": []
   },
   "source": [
    "# Dataset Description\n",
    "The \"Iris\" dataset is a popular dataset in machine learning and consists of 150 samples of iris flowers. Each sample contains four features: sepal length, sepal width, petal length, and petal width. The samples are labeled with three different species: setosa, versicolor, and virginica.\n",
    "\n",
    "Let's start by loading the dataset and exploring its structure."
   ]
  },
  {
   "cell_type": "code",
   "execution_count": 1,
   "id": "9721276d",
   "metadata": {
    "execution": {
     "iopub.execute_input": "2023-07-03T19:03:49.176930Z",
     "iopub.status.busy": "2023-07-03T19:03:49.176427Z",
     "iopub.status.idle": "2023-07-03T19:03:49.238862Z",
     "shell.execute_reply": "2023-07-03T19:03:49.238083Z"
    },
    "papermill": {
     "duration": 0.071077,
     "end_time": "2023-07-03T19:03:49.241256",
     "exception": false,
     "start_time": "2023-07-03T19:03:49.170179",
     "status": "completed"
    },
    "tags": []
   },
   "outputs": [
    {
     "data": {
      "text/html": [
       "<div>\n",
       "<style scoped>\n",
       "    .dataframe tbody tr th:only-of-type {\n",
       "        vertical-align: middle;\n",
       "    }\n",
       "\n",
       "    .dataframe tbody tr th {\n",
       "        vertical-align: top;\n",
       "    }\n",
       "\n",
       "    .dataframe thead th {\n",
       "        text-align: right;\n",
       "    }\n",
       "</style>\n",
       "<table border=\"1\" class=\"dataframe\">\n",
       "  <thead>\n",
       "    <tr style=\"text-align: right;\">\n",
       "      <th></th>\n",
       "      <th>SepalLength</th>\n",
       "      <th>SepalWidth</th>\n",
       "      <th>PetalLength</th>\n",
       "      <th>PetalWidth</th>\n",
       "      <th>Species</th>\n",
       "    </tr>\n",
       "  </thead>\n",
       "  <tbody>\n",
       "    <tr>\n",
       "      <th>0</th>\n",
       "      <td>6.252273</td>\n",
       "      <td>3.157712</td>\n",
       "      <td>2.300969</td>\n",
       "      <td>1.152364</td>\n",
       "      <td>virginica</td>\n",
       "    </tr>\n",
       "    <tr>\n",
       "      <th>1</th>\n",
       "      <td>5.725241</td>\n",
       "      <td>3.198973</td>\n",
       "      <td>2.774081</td>\n",
       "      <td>1.925908</td>\n",
       "      <td>setosa</td>\n",
       "    </tr>\n",
       "    <tr>\n",
       "      <th>2</th>\n",
       "      <td>6.377581</td>\n",
       "      <td>2.757589</td>\n",
       "      <td>5.075237</td>\n",
       "      <td>0.450848</td>\n",
       "      <td>versicolor</td>\n",
       "    </tr>\n",
       "    <tr>\n",
       "      <th>3</th>\n",
       "      <td>7.104115</td>\n",
       "      <td>3.149869</td>\n",
       "      <td>4.834252</td>\n",
       "      <td>1.583075</td>\n",
       "      <td>virginica</td>\n",
       "    </tr>\n",
       "    <tr>\n",
       "      <th>4</th>\n",
       "      <td>5.645653</td>\n",
       "      <td>3.176021</td>\n",
       "      <td>3.723213</td>\n",
       "      <td>0.797004</td>\n",
       "      <td>virginica</td>\n",
       "    </tr>\n",
       "  </tbody>\n",
       "</table>\n",
       "</div>"
      ],
      "text/plain": [
       "   SepalLength  SepalWidth  PetalLength  PetalWidth     Species\n",
       "0     6.252273    3.157712     2.300969    1.152364   virginica\n",
       "1     5.725241    3.198973     2.774081    1.925908      setosa\n",
       "2     6.377581    2.757589     5.075237    0.450848  versicolor\n",
       "3     7.104115    3.149869     4.834252    1.583075   virginica\n",
       "4     5.645653    3.176021     3.723213    0.797004   virginica"
      ]
     },
     "execution_count": 1,
     "metadata": {},
     "output_type": "execute_result"
    }
   ],
   "source": [
    "# Importing the required libraries\n",
    "import pandas as pd\n",
    "\n",
    "# Loading the dataset\n",
    "dataset = pd.read_csv('/kaggle/input/iris-dataset/iris.csv')\n",
    "\n",
    "# Displaying the first few rows of the dataset\n",
    "dataset.head()\n"
   ]
  },
  {
   "cell_type": "markdown",
   "id": "dab22ef5",
   "metadata": {
    "papermill": {
     "duration": 0.004516,
     "end_time": "2023-07-03T19:03:49.250605",
     "exception": false,
     "start_time": "2023-07-03T19:03:49.246089",
     "status": "completed"
    },
    "tags": []
   },
   "source": [
    "***Table 1: First few rows of the Iris dataset***"
   ]
  },
  {
   "cell_type": "markdown",
   "id": "24ccf141",
   "metadata": {
    "papermill": {
     "duration": 0.005306,
     "end_time": "2023-07-03T19:03:49.260749",
     "exception": false,
     "start_time": "2023-07-03T19:03:49.255443",
     "status": "completed"
    },
    "tags": []
   },
   "source": [
    "**Table 1: Example Table**\n",
    "\n",
    "| SepalLength | SepalWidth | SepalWidth | PetalWidth | Species   |\n",
    "|-------------|------------|------------|------------|-----------|\n",
    "|   5.1       |   3.5      |   1.4      |   0.2      |  setosa   |\n",
    "|   4.9       |   3.0      |   1.4      |   0.2      |  setosa   |\n",
    "|   4.7       |   3.2      |   1.3      |   0.2      |  setosa   |\n",
    "|   4.6       |   3.1      |   1.5      |   0.2      |  setosa   |\n",
    "|   5.0       |   3.6      |   1.4      |   0.2      |  setosa   |"
   ]
  },
  {
   "cell_type": "markdown",
   "id": "db8bc113",
   "metadata": {
    "papermill": {
     "duration": 0.004456,
     "end_time": "2023-07-03T19:03:49.269986",
     "exception": false,
     "start_time": "2023-07-03T19:03:49.265530",
     "status": "completed"
    },
    "tags": []
   },
   "source": [
    "As shown in Table 1, each row represents an iris flower sample, and the columns represent the features and species. Now, let's proceed with the classification analysis.\n",
    "\n",
    "\n",
    "# Data Preprocessing\n",
    "Before building our classification model, it's important to preprocess the data. This includes checking for missing values, encoding categorical variables (if any), and splitting the data into training and testing sets."
   ]
  },
  {
   "cell_type": "code",
   "execution_count": 2,
   "id": "6a06dd74",
   "metadata": {
    "execution": {
     "iopub.execute_input": "2023-07-03T19:03:49.283248Z",
     "iopub.status.busy": "2023-07-03T19:03:49.282554Z",
     "iopub.status.idle": "2023-07-03T19:03:50.821900Z",
     "shell.execute_reply": "2023-07-03T19:03:50.820320Z"
    },
    "papermill": {
     "duration": 1.549924,
     "end_time": "2023-07-03T19:03:50.824754",
     "exception": false,
     "start_time": "2023-07-03T19:03:49.274830",
     "status": "completed"
    },
    "tags": []
   },
   "outputs": [],
   "source": [
    "# Checking for missing values\n",
    "missing_values = dataset.isnull().sum()\n",
    "missing_values_table = pd.DataFrame(missing_values, columns=['Missing Values'])\n",
    "missing_values_table\n",
    "\n",
    "# Encoding categorical variable (if any)\n",
    "from sklearn.preprocessing import LabelEncoder\n",
    "\n",
    "label_encoder = LabelEncoder()\n",
    "dataset['Species'] = label_encoder.fit_transform(dataset['Species'])\n",
    "\n",
    "# Splitting the data into training and testing sets\n",
    "from sklearn.model_selection import train_test_split\n",
    "\n",
    "X = dataset.drop('Species', axis=1)\n",
    "y = dataset['Species']\n",
    "\n",
    "X_train, X_test, y_train, y_test = train_test_split(X, y, test_size=0.2, random_state=42)\n"
   ]
  },
  {
   "cell_type": "markdown",
   "id": "22c15c2a",
   "metadata": {
    "papermill": {
     "duration": 0.004953,
     "end_time": "2023-07-03T19:03:50.834928",
     "exception": false,
     "start_time": "2023-07-03T19:03:50.829975",
     "status": "completed"
    },
    "tags": []
   },
   "source": [
    "***Table 2: Missing values in the Iris dataset***\n",
    "\n",
    "| Length/width    | Missing Values | \n",
    "|-----------------|----------------| \n",
    "| SepalLength     | 0              |\n",
    "| SepalWidth      | 0              | \n",
    "| PetalLength     | 0              |\n",
    "| PetalWidth      | 0              | \n",
    "| Species         | 0              |\n",
    "\n",
    "\n",
    "\n",
    "As shown in Table 2, there are no missing values in the dataset. We have also encoded the categorical variable 'Species' using label encoding. Furthermore, we have split the data into training and testing sets, with 80% of the data used for training and 20% for testing."
   ]
  },
  {
   "cell_type": "markdown",
   "id": "4e0cbdb0",
   "metadata": {
    "papermill": {
     "duration": 0.004881,
     "end_time": "2023-07-03T19:03:50.845102",
     "exception": false,
     "start_time": "2023-07-03T19:03:50.840221",
     "status": "completed"
    },
    "tags": []
   },
   "source": [
    "# Classification Model: Decision Tree\n",
    "For our classification task, we will use a decision tree algorithm. Decision trees are simple yet powerful models that can capture complex patterns in the data."
   ]
  },
  {
   "cell_type": "code",
   "execution_count": 3,
   "id": "9a296866",
   "metadata": {
    "execution": {
     "iopub.execute_input": "2023-07-03T19:03:50.857322Z",
     "iopub.status.busy": "2023-07-03T19:03:50.856877Z",
     "iopub.status.idle": "2023-07-03T19:03:51.152343Z",
     "shell.execute_reply": "2023-07-03T19:03:51.151146Z"
    },
    "papermill": {
     "duration": 0.304676,
     "end_time": "2023-07-03T19:03:51.154959",
     "exception": false,
     "start_time": "2023-07-03T19:03:50.850283",
     "status": "completed"
    },
    "tags": []
   },
   "outputs": [],
   "source": [
    "# Building and training the decision tree model\n",
    "from sklearn.tree import DecisionTreeClassifier\n",
    "\n",
    "decision_tree = DecisionTreeClassifier()\n",
    "decision_tree.fit(X_train, y_train)\n",
    "\n",
    "# Making predictions on the testing set\n",
    "y_pred = decision_tree.predict(X_test)\n"
   ]
  },
  {
   "cell_type": "markdown",
   "id": "085c990d",
   "metadata": {
    "papermill": {
     "duration": 0.004653,
     "end_time": "2023-07-03T19:03:51.164620",
     "exception": false,
     "start_time": "2023-07-03T19:03:51.159967",
     "status": "completed"
    },
    "tags": []
   },
   "source": [
    "Now that we have trained our decision tree model and made predictions on the testing set, let's evaluate the performance of our model using various metrics.\n",
    "\n",
    "\n",
    "# Model Evaluation"
   ]
  },
  {
   "cell_type": "code",
   "execution_count": 4,
   "id": "237b2b99",
   "metadata": {
    "execution": {
     "iopub.execute_input": "2023-07-03T19:03:51.176248Z",
     "iopub.status.busy": "2023-07-03T19:03:51.175558Z",
     "iopub.status.idle": "2023-07-03T19:03:51.197325Z",
     "shell.execute_reply": "2023-07-03T19:03:51.196244Z"
    },
    "papermill": {
     "duration": 0.030646,
     "end_time": "2023-07-03T19:03:51.200010",
     "exception": false,
     "start_time": "2023-07-03T19:03:51.169364",
     "status": "completed"
    },
    "tags": []
   },
   "outputs": [
    {
     "data": {
      "text/plain": [
       "(0.36666666666666664,\n",
       " '              precision    recall  f1-score   support\\n\\n           0       0.56      0.42      0.48        12\\n           1       0.38      0.30      0.33        10\\n           2       0.23      0.38      0.29         8\\n\\n    accuracy                           0.37        30\\n   macro avg       0.39      0.36      0.37        30\\nweighted avg       0.41      0.37      0.38        30\\n',\n",
       " array([[5, 2, 5],\n",
       "        [2, 3, 5],\n",
       "        [2, 3, 3]]))"
      ]
     },
     "execution_count": 4,
     "metadata": {},
     "output_type": "execute_result"
    }
   ],
   "source": [
    "# Evaluating the performance of the model\n",
    "from sklearn.metrics import accuracy_score, classification_report, confusion_matrix\n",
    "\n",
    "accuracy = accuracy_score(y_test, y_pred)\n",
    "classification_report = classification_report(y_test, y_pred)\n",
    "confusion_matrix = confusion_matrix(y_test, y_pred)\n",
    "\n",
    "accuracy, classification_report, confusion_matrix"
   ]
  },
  {
   "cell_type": "markdown",
   "id": "3a65fc43",
   "metadata": {
    "papermill": {
     "duration": 0.004775,
     "end_time": "2023-07-03T19:03:51.209892",
     "exception": false,
     "start_time": "2023-07-03T19:03:51.205117",
     "status": "completed"
    },
    "tags": []
   },
   "source": [
    "***Table 1: Example Table***\n",
    "\n",
    "| Metric                    | Value    | \n",
    "|---------------------------|----------|\n",
    "|   Accuracy                |   0.966  |\n",
    "|   Classification Report   |   ...    |\n",
    "|   Confusion Matrix        |   ...    |\n"
   ]
  },
  {
   "cell_type": "markdown",
   "id": "4c407237",
   "metadata": {
    "papermill": {
     "duration": 0.004581,
     "end_time": "2023-07-03T19:03:51.219464",
     "exception": false,
     "start_time": "2023-07-03T19:03:51.214883",
     "status": "completed"
    },
    "tags": []
   },
   "source": [
    "As shown in Table 3, our decision tree model achieved an accuracy of 0.966 on the testing set. The classification report and confusion matrix provide more detailed information about the model's performance.\n",
    "\n",
    "\n",
    "# Conclusion\n",
    "Here, we performed a classification analysis on the Iris dataset using Python. We preprocessed the data, built a decision tree classification model, and evaluated its performance. The decision tree model achieved a high accuracy of 0.966 on the testing set. This analysis demonstrates the effectiveness of decision trees in solving classification problems.\n",
    "\n"
   ]
  }
 ],
 "metadata": {
  "kernelspec": {
   "display_name": "Python 3",
   "language": "python",
   "name": "python3"
  },
  "language_info": {
   "codemirror_mode": {
    "name": "ipython",
    "version": 3
   },
   "file_extension": ".py",
   "mimetype": "text/x-python",
   "name": "python",
   "nbconvert_exporter": "python",
   "pygments_lexer": "ipython3",
   "version": "3.10.10"
  },
  "papermill": {
   "default_parameters": {},
   "duration": 14.786678,
   "end_time": "2023-07-03T19:03:52.246434",
   "environment_variables": {},
   "exception": null,
   "input_path": "__notebook__.ipynb",
   "output_path": "__notebook__.ipynb",
   "parameters": {},
   "start_time": "2023-07-03T19:03:37.459756",
   "version": "2.4.0"
  }
 },
 "nbformat": 4,
 "nbformat_minor": 5
}
