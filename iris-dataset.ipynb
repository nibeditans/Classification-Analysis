{
 "cells": [
  {
   "cell_type": "code",
   "execution_count": 1,
   "id": "c51ca572",
   "metadata": {
    "_cell_guid": "b1076dfc-b9ad-4769-8c92-a6c4dae69d19",
    "_uuid": "8f2839f25d086af736a60e9eeb907d3b93b6e0e5",
    "execution": {
     "iopub.execute_input": "2023-07-03T18:19:34.919549Z",
     "iopub.status.busy": "2023-07-03T18:19:34.918910Z",
     "iopub.status.idle": "2023-07-03T18:19:34.931447Z",
     "shell.execute_reply": "2023-07-03T18:19:34.930444Z"
    },
    "papermill": {
     "duration": 0.018798,
     "end_time": "2023-07-03T18:19:34.933945",
     "exception": false,
     "start_time": "2023-07-03T18:19:34.915147",
     "status": "completed"
    },
    "tags": []
   },
   "outputs": [],
   "source": [
    "# This Python 3 environment comes with many helpful analytics libraries installed\n",
    "# It is defined by the kaggle/python Docker image: https://github.com/kaggle/docker-python\n",
    "# For example, here's several helpful packages to load\n",
    "\n",
    "import numpy as np # linear algebra\n",
    "import pandas as pd # data processing, CSV file I/O (e.g. pd.read_csv)\n",
    "\n",
    "# Input data files are available in the read-only \"../input/\" directory\n",
    "# For example, running this (by clicking run or pressing Shift+Enter) will list all files under the input directory\n",
    "\n",
    "import os\n",
    "for dirname, _, filenames in os.walk('/kaggle/input'):\n",
    "    for filename in filenames:\n",
    "        print(os.path.join(dirname, filename))\n",
    "\n",
    "# You can write up to 20GB to the current directory (/kaggle/working/) that gets preserved as output when you create a version using \"Save & Run All\" \n",
    "# You can also write temporary files to /kaggle/temp/, but they won't be saved outside of the current session"
   ]
  },
  {
   "cell_type": "code",
   "execution_count": 2,
   "id": "dc544149",
   "metadata": {
    "execution": {
     "iopub.execute_input": "2023-07-03T18:19:34.939369Z",
     "iopub.status.busy": "2023-07-03T18:19:34.939064Z",
     "iopub.status.idle": "2023-07-03T18:19:34.962053Z",
     "shell.execute_reply": "2023-07-03T18:19:34.960957Z"
    },
    "papermill": {
     "duration": 0.028209,
     "end_time": "2023-07-03T18:19:34.964270",
     "exception": false,
     "start_time": "2023-07-03T18:19:34.936061",
     "status": "completed"
    },
    "tags": []
   },
   "outputs": [],
   "source": [
    "import pandas as pd\n",
    "import numpy as np\n",
    "\n",
    "# Generate random data for the Iris dataset\n",
    "np.random.seed(42)  # Set a random seed for reproducibility\n",
    "\n",
    "# Create feature data\n",
    "sepal_length = np.random.normal(5.84, 0.83, 150)\n",
    "sepal_width = np.random.normal(3.05, 0.43, 150)\n",
    "petal_length = np.random.normal(3.76, 1.76, 150)\n",
    "petal_width = np.random.normal(1.20, 0.76, 150)\n",
    "\n",
    "# Create target labels\n",
    "species = np.random.choice(['setosa', 'versicolor', 'virginica'], 150)\n",
    "\n",
    "# Create the DataFrame\n",
    "dataset = pd.DataFrame({\n",
    "    'SepalLength': sepal_length,\n",
    "    'SepalWidth': sepal_width,\n",
    "    'PetalLength': petal_length,\n",
    "    'PetalWidth': petal_width,\n",
    "    'Species': species\n",
    "})\n",
    "\n",
    "# Save the dataset as 'iris.csv'\n",
    "dataset.to_csv('iris.csv', index=False)\n"
   ]
  }
 ],
 "metadata": {
  "kernelspec": {
   "display_name": "Python 3",
   "language": "python",
   "name": "python3"
  },
  "language_info": {
   "codemirror_mode": {
    "name": "ipython",
    "version": 3
   },
   "file_extension": ".py",
   "mimetype": "text/x-python",
   "name": "python",
   "nbconvert_exporter": "python",
   "pygments_lexer": "ipython3",
   "version": "3.10.10"
  },
  "papermill": {
   "default_parameters": {},
   "duration": 11.952296,
   "end_time": "2023-07-03T18:19:35.787306",
   "environment_variables": {},
   "exception": null,
   "input_path": "__notebook__.ipynb",
   "output_path": "__notebook__.ipynb",
   "parameters": {},
   "start_time": "2023-07-03T18:19:23.835010",
   "version": "2.4.0"
  }
 },
 "nbformat": 4,
 "nbformat_minor": 5
}
